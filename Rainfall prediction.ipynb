{
 "cells": [
  {
   "cell_type": "code",
   "execution_count": 1,
   "id": "01eb2738",
   "metadata": {},
   "outputs": [],
   "source": [
    "import pandas as pd\n",
    "import numpy as np\n",
    "from sklearn.model_selection import train_test_split\n",
    "from sklearn.ensemble import RandomForestRegressor\n",
    "from sklearn.preprocessing import LabelEncoder\n",
    "from sklearn.metrics import mean_squared_error"
   ]
  },
  {
   "cell_type": "code",
   "execution_count": 2,
   "id": "cc09496a",
   "metadata": {},
   "outputs": [],
   "source": [
    "df2 = pd.read_csv(\"./Rainfall Data in India.csv\")"
   ]
  },
  {
   "cell_type": "code",
   "execution_count": 3,
   "id": "0f98561a",
   "metadata": {},
   "outputs": [
    {
     "data": {
      "text/html": [
       "<div>\n",
       "<style scoped>\n",
       "    .dataframe tbody tr th:only-of-type {\n",
       "        vertical-align: middle;\n",
       "    }\n",
       "\n",
       "    .dataframe tbody tr th {\n",
       "        vertical-align: top;\n",
       "    }\n",
       "\n",
       "    .dataframe thead th {\n",
       "        text-align: right;\n",
       "    }\n",
       "</style>\n",
       "<table border=\"1\" class=\"dataframe\">\n",
       "  <thead>\n",
       "    <tr style=\"text-align: right;\">\n",
       "      <th></th>\n",
       "      <th>DISTRICT</th>\n",
       "      <th>YEAR</th>\n",
       "      <th>JAN</th>\n",
       "      <th>FEB</th>\n",
       "      <th>MAR</th>\n",
       "      <th>APR</th>\n",
       "      <th>MAY</th>\n",
       "      <th>JUN</th>\n",
       "      <th>JUL</th>\n",
       "      <th>AUG</th>\n",
       "      <th>SEP</th>\n",
       "      <th>OCT</th>\n",
       "      <th>NOV</th>\n",
       "      <th>DEC</th>\n",
       "    </tr>\n",
       "  </thead>\n",
       "  <tbody>\n",
       "    <tr>\n",
       "      <th>0</th>\n",
       "      <td>SOUTH ANDAMAN</td>\n",
       "      <td>1950</td>\n",
       "      <td>0.8</td>\n",
       "      <td>0.0</td>\n",
       "      <td>0.0</td>\n",
       "      <td>95.5</td>\n",
       "      <td>264.2</td>\n",
       "      <td>369.9</td>\n",
       "      <td>366.7</td>\n",
       "      <td>347.3</td>\n",
       "      <td>494.5</td>\n",
       "      <td>224.6</td>\n",
       "      <td>89.3</td>\n",
       "      <td>169.4</td>\n",
       "    </tr>\n",
       "    <tr>\n",
       "      <th>1</th>\n",
       "      <td>SOUTH ANDAMAN</td>\n",
       "      <td>1951</td>\n",
       "      <td>82.7</td>\n",
       "      <td>7.2</td>\n",
       "      <td>0.0</td>\n",
       "      <td>45.4</td>\n",
       "      <td>259.0</td>\n",
       "      <td>619.9</td>\n",
       "      <td>665.3</td>\n",
       "      <td>101.3</td>\n",
       "      <td>360.9</td>\n",
       "      <td>489.0</td>\n",
       "      <td>209.6</td>\n",
       "      <td>434.8</td>\n",
       "    </tr>\n",
       "    <tr>\n",
       "      <th>2</th>\n",
       "      <td>SOUTH ANDAMAN</td>\n",
       "      <td>1952</td>\n",
       "      <td>0.0</td>\n",
       "      <td>0.8</td>\n",
       "      <td>69.7</td>\n",
       "      <td>39.4</td>\n",
       "      <td>452.9</td>\n",
       "      <td>657.7</td>\n",
       "      <td>385.5</td>\n",
       "      <td>541.3</td>\n",
       "      <td>240.3</td>\n",
       "      <td>315.6</td>\n",
       "      <td>287.5</td>\n",
       "      <td>89.2</td>\n",
       "    </tr>\n",
       "    <tr>\n",
       "      <th>3</th>\n",
       "      <td>SOUTH ANDAMAN</td>\n",
       "      <td>1953</td>\n",
       "      <td>27.0</td>\n",
       "      <td>78.4</td>\n",
       "      <td>0.0</td>\n",
       "      <td>133.4</td>\n",
       "      <td>261.7</td>\n",
       "      <td>481.0</td>\n",
       "      <td>561.3</td>\n",
       "      <td>308.2</td>\n",
       "      <td>399.6</td>\n",
       "      <td>299.5</td>\n",
       "      <td>262.0</td>\n",
       "      <td>65.7</td>\n",
       "    </tr>\n",
       "    <tr>\n",
       "      <th>4</th>\n",
       "      <td>SOUTH ANDAMAN</td>\n",
       "      <td>1954</td>\n",
       "      <td>37.4</td>\n",
       "      <td>0.5</td>\n",
       "      <td>35.3</td>\n",
       "      <td>56.9</td>\n",
       "      <td>451.8</td>\n",
       "      <td>611.8</td>\n",
       "      <td>599.7</td>\n",
       "      <td>817.0</td>\n",
       "      <td>1123.0</td>\n",
       "      <td>175.1</td>\n",
       "      <td>35.1</td>\n",
       "      <td>84.2</td>\n",
       "    </tr>\n",
       "    <tr>\n",
       "      <th>...</th>\n",
       "      <td>...</td>\n",
       "      <td>...</td>\n",
       "      <td>...</td>\n",
       "      <td>...</td>\n",
       "      <td>...</td>\n",
       "      <td>...</td>\n",
       "      <td>...</td>\n",
       "      <td>...</td>\n",
       "      <td>...</td>\n",
       "      <td>...</td>\n",
       "      <td>...</td>\n",
       "      <td>...</td>\n",
       "      <td>...</td>\n",
       "      <td>...</td>\n",
       "    </tr>\n",
       "    <tr>\n",
       "      <th>32569</th>\n",
       "      <td>WEST MIDNAPORE</td>\n",
       "      <td>2006</td>\n",
       "      <td>0.0</td>\n",
       "      <td>0.0</td>\n",
       "      <td>12.8</td>\n",
       "      <td>56.9</td>\n",
       "      <td>113.9</td>\n",
       "      <td>152.4</td>\n",
       "      <td>417.6</td>\n",
       "      <td>446.8</td>\n",
       "      <td>333.7</td>\n",
       "      <td>40.9</td>\n",
       "      <td>1.0</td>\n",
       "      <td>0.0</td>\n",
       "    </tr>\n",
       "    <tr>\n",
       "      <th>32570</th>\n",
       "      <td>WEST MIDNAPORE</td>\n",
       "      <td>2007</td>\n",
       "      <td>2.1</td>\n",
       "      <td>61.2</td>\n",
       "      <td>102.8</td>\n",
       "      <td>49.7</td>\n",
       "      <td>47.1</td>\n",
       "      <td>287.6</td>\n",
       "      <td>766.6</td>\n",
       "      <td>370.5</td>\n",
       "      <td>458.9</td>\n",
       "      <td>12.4</td>\n",
       "      <td>11.5</td>\n",
       "      <td>0.0</td>\n",
       "    </tr>\n",
       "    <tr>\n",
       "      <th>32571</th>\n",
       "      <td>WEST MIDNAPORE</td>\n",
       "      <td>2008</td>\n",
       "      <td>72.8</td>\n",
       "      <td>6.3</td>\n",
       "      <td>20.6</td>\n",
       "      <td>102.4</td>\n",
       "      <td>110.6</td>\n",
       "      <td>793.1</td>\n",
       "      <td>314.2</td>\n",
       "      <td>263.6</td>\n",
       "      <td>338.9</td>\n",
       "      <td>48.5</td>\n",
       "      <td>0.0</td>\n",
       "      <td>0.0</td>\n",
       "    </tr>\n",
       "    <tr>\n",
       "      <th>32572</th>\n",
       "      <td>WEST MIDNAPORE</td>\n",
       "      <td>2009</td>\n",
       "      <td>0.0</td>\n",
       "      <td>0.0</td>\n",
       "      <td>29.6</td>\n",
       "      <td>5.7</td>\n",
       "      <td>381.6</td>\n",
       "      <td>54.1</td>\n",
       "      <td>223.6</td>\n",
       "      <td>279.8</td>\n",
       "      <td>276.4</td>\n",
       "      <td>58.5</td>\n",
       "      <td>4.3</td>\n",
       "      <td>0.0</td>\n",
       "    </tr>\n",
       "    <tr>\n",
       "      <th>32573</th>\n",
       "      <td>WEST MIDNAPORE</td>\n",
       "      <td>2010</td>\n",
       "      <td>0.1</td>\n",
       "      <td>0.8</td>\n",
       "      <td>1.0</td>\n",
       "      <td>1.5</td>\n",
       "      <td>246.0</td>\n",
       "      <td>199.6</td>\n",
       "      <td>201.6</td>\n",
       "      <td>147.4</td>\n",
       "      <td>200.7</td>\n",
       "      <td>100.7</td>\n",
       "      <td>3.1</td>\n",
       "      <td>15.7</td>\n",
       "    </tr>\n",
       "  </tbody>\n",
       "</table>\n",
       "<p>32574 rows × 14 columns</p>\n",
       "</div>"
      ],
      "text/plain": [
       "             DISTRICT  YEAR   JAN   FEB    MAR    APR    MAY    JUN    JUL  \\\n",
       "0       SOUTH ANDAMAN  1950   0.8   0.0    0.0   95.5  264.2  369.9  366.7   \n",
       "1       SOUTH ANDAMAN  1951  82.7   7.2    0.0   45.4  259.0  619.9  665.3   \n",
       "2       SOUTH ANDAMAN  1952   0.0   0.8   69.7   39.4  452.9  657.7  385.5   \n",
       "3       SOUTH ANDAMAN  1953  27.0  78.4    0.0  133.4  261.7  481.0  561.3   \n",
       "4       SOUTH ANDAMAN  1954  37.4   0.5   35.3   56.9  451.8  611.8  599.7   \n",
       "...               ...   ...   ...   ...    ...    ...    ...    ...    ...   \n",
       "32569  WEST MIDNAPORE  2006   0.0   0.0   12.8   56.9  113.9  152.4  417.6   \n",
       "32570  WEST MIDNAPORE  2007   2.1  61.2  102.8   49.7   47.1  287.6  766.6   \n",
       "32571  WEST MIDNAPORE  2008  72.8   6.3   20.6  102.4  110.6  793.1  314.2   \n",
       "32572  WEST MIDNAPORE  2009   0.0   0.0   29.6    5.7  381.6   54.1  223.6   \n",
       "32573  WEST MIDNAPORE  2010   0.1   0.8    1.0    1.5  246.0  199.6  201.6   \n",
       "\n",
       "         AUG     SEP    OCT    NOV    DEC  \n",
       "0      347.3   494.5  224.6   89.3  169.4  \n",
       "1      101.3   360.9  489.0  209.6  434.8  \n",
       "2      541.3   240.3  315.6  287.5   89.2  \n",
       "3      308.2   399.6  299.5  262.0   65.7  \n",
       "4      817.0  1123.0  175.1   35.1   84.2  \n",
       "...      ...     ...    ...    ...    ...  \n",
       "32569  446.8   333.7   40.9    1.0    0.0  \n",
       "32570  370.5   458.9   12.4   11.5    0.0  \n",
       "32571  263.6   338.9   48.5    0.0    0.0  \n",
       "32572  279.8   276.4   58.5    4.3    0.0  \n",
       "32573  147.4   200.7  100.7    3.1   15.7  \n",
       "\n",
       "[32574 rows x 14 columns]"
      ]
     },
     "execution_count": 3,
     "metadata": {},
     "output_type": "execute_result"
    }
   ],
   "source": [
    "df2"
   ]
  },
  {
   "cell_type": "code",
   "execution_count": 4,
   "id": "b6c784b9",
   "metadata": {},
   "outputs": [
    {
     "data": {
      "text/plain": [
       "DISTRICT       0\n",
       "YEAR           0\n",
       "JAN         1951\n",
       "FEB         2062\n",
       "MAR         1928\n",
       "APR         1830\n",
       "MAY         1890\n",
       "JUN         1926\n",
       "JUL         1891\n",
       "AUG         1947\n",
       "SEP         1992\n",
       "OCT         2043\n",
       "NOV         2172\n",
       "DEC         2080\n",
       "dtype: int64"
      ]
     },
     "execution_count": 4,
     "metadata": {},
     "output_type": "execute_result"
    }
   ],
   "source": [
    "df2.isnull().sum()"
   ]
  },
  {
   "cell_type": "code",
   "execution_count": 5,
   "id": "3e6ed255",
   "metadata": {},
   "outputs": [
    {
     "name": "stderr",
     "output_type": "stream",
     "text": [
      "C:\\Users\\adity\\AppData\\Local\\Temp\\ipykernel_37440\\4105179324.py:1: FutureWarning: The default value of numeric_only in DataFrame.mean is deprecated. In a future version, it will default to False. In addition, specifying 'numeric_only=None' is deprecated. Select only valid columns or specify the value of numeric_only to silence this warning.\n",
      "  df2.fillna(df2.mean(), inplace=True)\n"
     ]
    }
   ],
   "source": [
    "df2.fillna(df2.mean(), inplace=True)"
   ]
  },
  {
   "cell_type": "code",
   "execution_count": 6,
   "id": "cd857f21",
   "metadata": {},
   "outputs": [],
   "source": [
    "label_encoder = LabelEncoder()\n",
    "df2['DISTRICT'] = label_encoder.fit_transform(df2['DISTRICT'])"
   ]
  },
  {
   "cell_type": "code",
   "execution_count": 7,
   "id": "7ac35804",
   "metadata": {},
   "outputs": [],
   "source": [
    "df_long = pd.melt(df2, id_vars=['DISTRICT', 'YEAR'], var_name='MONTH', value_name='RAINFALL')\n"
   ]
  },
  {
   "cell_type": "code",
   "execution_count": 8,
   "id": "6d195a04",
   "metadata": {},
   "outputs": [],
   "source": [
    "months_map = {'JAN': 1, 'FEB': 2, 'MAR': 3, 'APR': 4, 'MAY': 5, 'JUN': 6,\n",
    "              'JUL': 7, 'AUG': 8, 'SEP': 9, 'OCT': 10, 'NOV': 11, 'DEC': 12}\n",
    "df_long['MONTH'] = df_long['MONTH'].map(months_map)\n"
   ]
  },
  {
   "cell_type": "code",
   "execution_count": 9,
   "id": "144e1895",
   "metadata": {},
   "outputs": [],
   "source": [
    "X = df_long[['DISTRICT', 'YEAR', 'MONTH']]\n",
    "y = df_long['RAINFALL']\n"
   ]
  },
  {
   "cell_type": "code",
   "execution_count": 10,
   "id": "d58212f1",
   "metadata": {},
   "outputs": [],
   "source": [
    "X_train, X_test, y_train, y_test = train_test_split(X, y, test_size=0.2, random_state=42)\n"
   ]
  },
  {
   "cell_type": "code",
   "execution_count": 11,
   "id": "9ce292fd",
   "metadata": {},
   "outputs": [
    {
     "data": {
      "text/html": [
       "<style>#sk-container-id-1 {color: black;background-color: white;}#sk-container-id-1 pre{padding: 0;}#sk-container-id-1 div.sk-toggleable {background-color: white;}#sk-container-id-1 label.sk-toggleable__label {cursor: pointer;display: block;width: 100%;margin-bottom: 0;padding: 0.3em;box-sizing: border-box;text-align: center;}#sk-container-id-1 label.sk-toggleable__label-arrow:before {content: \"▸\";float: left;margin-right: 0.25em;color: #696969;}#sk-container-id-1 label.sk-toggleable__label-arrow:hover:before {color: black;}#sk-container-id-1 div.sk-estimator:hover label.sk-toggleable__label-arrow:before {color: black;}#sk-container-id-1 div.sk-toggleable__content {max-height: 0;max-width: 0;overflow: hidden;text-align: left;background-color: #f0f8ff;}#sk-container-id-1 div.sk-toggleable__content pre {margin: 0.2em;color: black;border-radius: 0.25em;background-color: #f0f8ff;}#sk-container-id-1 input.sk-toggleable__control:checked~div.sk-toggleable__content {max-height: 200px;max-width: 100%;overflow: auto;}#sk-container-id-1 input.sk-toggleable__control:checked~label.sk-toggleable__label-arrow:before {content: \"▾\";}#sk-container-id-1 div.sk-estimator input.sk-toggleable__control:checked~label.sk-toggleable__label {background-color: #d4ebff;}#sk-container-id-1 div.sk-label input.sk-toggleable__control:checked~label.sk-toggleable__label {background-color: #d4ebff;}#sk-container-id-1 input.sk-hidden--visually {border: 0;clip: rect(1px 1px 1px 1px);clip: rect(1px, 1px, 1px, 1px);height: 1px;margin: -1px;overflow: hidden;padding: 0;position: absolute;width: 1px;}#sk-container-id-1 div.sk-estimator {font-family: monospace;background-color: #f0f8ff;border: 1px dotted black;border-radius: 0.25em;box-sizing: border-box;margin-bottom: 0.5em;}#sk-container-id-1 div.sk-estimator:hover {background-color: #d4ebff;}#sk-container-id-1 div.sk-parallel-item::after {content: \"\";width: 100%;border-bottom: 1px solid gray;flex-grow: 1;}#sk-container-id-1 div.sk-label:hover label.sk-toggleable__label {background-color: #d4ebff;}#sk-container-id-1 div.sk-serial::before {content: \"\";position: absolute;border-left: 1px solid gray;box-sizing: border-box;top: 0;bottom: 0;left: 50%;z-index: 0;}#sk-container-id-1 div.sk-serial {display: flex;flex-direction: column;align-items: center;background-color: white;padding-right: 0.2em;padding-left: 0.2em;position: relative;}#sk-container-id-1 div.sk-item {position: relative;z-index: 1;}#sk-container-id-1 div.sk-parallel {display: flex;align-items: stretch;justify-content: center;background-color: white;position: relative;}#sk-container-id-1 div.sk-item::before, #sk-container-id-1 div.sk-parallel-item::before {content: \"\";position: absolute;border-left: 1px solid gray;box-sizing: border-box;top: 0;bottom: 0;left: 50%;z-index: -1;}#sk-container-id-1 div.sk-parallel-item {display: flex;flex-direction: column;z-index: 1;position: relative;background-color: white;}#sk-container-id-1 div.sk-parallel-item:first-child::after {align-self: flex-end;width: 50%;}#sk-container-id-1 div.sk-parallel-item:last-child::after {align-self: flex-start;width: 50%;}#sk-container-id-1 div.sk-parallel-item:only-child::after {width: 0;}#sk-container-id-1 div.sk-dashed-wrapped {border: 1px dashed gray;margin: 0 0.4em 0.5em 0.4em;box-sizing: border-box;padding-bottom: 0.4em;background-color: white;}#sk-container-id-1 div.sk-label label {font-family: monospace;font-weight: bold;display: inline-block;line-height: 1.2em;}#sk-container-id-1 div.sk-label-container {text-align: center;}#sk-container-id-1 div.sk-container {/* jupyter's `normalize.less` sets `[hidden] { display: none; }` but bootstrap.min.css set `[hidden] { display: none !important; }` so we also need the `!important` here to be able to override the default hidden behavior on the sphinx rendered scikit-learn.org. See: https://github.com/scikit-learn/scikit-learn/issues/21755 */display: inline-block !important;position: relative;}#sk-container-id-1 div.sk-text-repr-fallback {display: none;}</style><div id=\"sk-container-id-1\" class=\"sk-top-container\"><div class=\"sk-text-repr-fallback\"><pre>RandomForestRegressor(random_state=42)</pre><b>In a Jupyter environment, please rerun this cell to show the HTML representation or trust the notebook. <br />On GitHub, the HTML representation is unable to render, please try loading this page with nbviewer.org.</b></div><div class=\"sk-container\" hidden><div class=\"sk-item\"><div class=\"sk-estimator sk-toggleable\"><input class=\"sk-toggleable__control sk-hidden--visually\" id=\"sk-estimator-id-1\" type=\"checkbox\" checked><label for=\"sk-estimator-id-1\" class=\"sk-toggleable__label sk-toggleable__label-arrow\">RandomForestRegressor</label><div class=\"sk-toggleable__content\"><pre>RandomForestRegressor(random_state=42)</pre></div></div></div></div></div>"
      ],
      "text/plain": [
       "RandomForestRegressor(random_state=42)"
      ]
     },
     "execution_count": 11,
     "metadata": {},
     "output_type": "execute_result"
    }
   ],
   "source": [
    "model = RandomForestRegressor(n_estimators=100, random_state=42)\n",
    "model.fit(X_train, y_train)\n"
   ]
  },
  {
   "cell_type": "code",
   "execution_count": 12,
   "id": "d629c499",
   "metadata": {},
   "outputs": [],
   "source": [
    "y_pred = model.predict(X_test)\n"
   ]
  },
  {
   "cell_type": "code",
   "execution_count": 13,
   "id": "ac8e12f9",
   "metadata": {},
   "outputs": [
    {
     "name": "stdout",
     "output_type": "stream",
     "text": [
      "Mean Squared Error: 8541.164229639398\n"
     ]
    }
   ],
   "source": [
    "mse = mean_squared_error(y_test, y_pred)\n",
    "print(\"Mean Squared Error:\", mse)\n"
   ]
  },
  {
   "cell_type": "code",
   "execution_count": 15,
   "id": "013e738d",
   "metadata": {},
   "outputs": [
    {
     "name": "stdout",
     "output_type": "stream",
     "text": [
      "Predicted rainfall for SOUTH ANDAMAN in 2011 for month 5: 283.0472132055793 mm\n"
     ]
    },
    {
     "name": "stderr",
     "output_type": "stream",
     "text": [
      "C:\\ProgramData\\anaconda3\\lib\\site-packages\\sklearn\\base.py:420: UserWarning: X does not have valid feature names, but RandomForestRegressor was fitted with feature names\n",
      "  warnings.warn(\n"
     ]
    }
   ],
   "source": [
    "def predict_rainfall(district, year, month):\n",
    "    district_encoded = label_encoder.transform([district])[0]\n",
    "    features = [[district_encoded, year, month]]\n",
    "    prediction = model.predict(features)\n",
    "    return prediction[0]\n",
    "\n",
    "# Example prediction\n",
    "district = 'SOUTH ANDAMAN'\n",
    "year = 2011\n",
    "month = 5  # May\n",
    "predicted_rainfall = predict_rainfall(district, year, month)\n",
    "print(f\"Predicted rainfall for {district} in {year} for month {month}: {predicted_rainfall} mm\")\n"
   ]
  }
 ],
 "metadata": {
  "kernelspec": {
   "display_name": "Python 3 (ipykernel)",
   "language": "python",
   "name": "python3"
  },
  "language_info": {
   "codemirror_mode": {
    "name": "ipython",
    "version": 3
   },
   "file_extension": ".py",
   "mimetype": "text/x-python",
   "name": "python",
   "nbconvert_exporter": "python",
   "pygments_lexer": "ipython3",
   "version": "3.10.9"
  }
 },
 "nbformat": 4,
 "nbformat_minor": 5
}
